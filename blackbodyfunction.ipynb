{
 "cells": [
  {
   "cell_type": "code",
   "execution_count": 1,
   "id": "550011f2",
   "metadata": {},
   "outputs": [],
   "source": [
    "import scipy as sp\n",
    "import math\n",
    "import matplotlib.pyplot as plt\n",
    "import numpy as np\n"
   ]
  },
  {
   "cell_type": "code",
   "execution_count": 2,
   "id": "4fa0fbb8",
   "metadata": {},
   "outputs": [],
   "source": [
    "h = 6.626e-34\n",
    "c = 3.0e+8\n",
    "k = 1.38e-23\n",
    "pi = np.pi"
   ]
  },
  {
   "cell_type": "code",
   "execution_count": 34,
   "id": "32cdc623",
   "metadata": {},
   "outputs": [],
   "source": [
    "wavelengths = np.arange(5e-8, 2e-6, 1e-9)"
   ]
  },
  {
   "cell_type": "code",
   "execution_count": 4,
   "id": "304ebba9",
   "metadata": {},
   "outputs": [
    {
     "data": {
      "text/plain": [
       "'intensity4000 = blackbody(wavelengths, 4000.)\\nintensity5000 = blackbody(wavelengths, 5000.)\\nintensity6000 = blackbody(wavelengths, 6000.)\\nintensity7000 = blackbody(wavelengths, 7000.)'"
      ]
     },
     "execution_count": 4,
     "metadata": {},
     "output_type": "execute_result"
    }
   ],
   "source": [
    "'''intensity4000 = blackbody(wavelengths, 4000.)\n",
    "intensity5000 = blackbody(wavelengths, 5000.)\n",
    "intensity6000 = blackbody(wavelengths, 6000.)\n",
    "intensity7000 = blackbody(wavelengths, 7000.)'''\n",
    "\n"
   ]
  },
  {
   "cell_type": "code",
   "execution_count": 5,
   "id": "dc33148a",
   "metadata": {},
   "outputs": [
    {
     "data": {
      "text/plain": [
       "'plt.plot(wavelengths*1e9, intensity4000, \\'r-\\')\\nplt.plot(wavelengths*1e9, intensity5000, \\'g-\\')\\nplt.plot(wavelengths*1e9, intensity6000, \\'b-\\')\\nplt.plot(wavelengths*1e9, intensity7000, \\'k-\\')\\n\\nplt.xlabel(\"Wavelength (nm)\")\\nplt.ylabel(\"Intensity (W*m^-2*sr^-1*µm^-1)\")\\n\\nb = 2.898e-3\\ndef wien(temp):\\n    wav_max = b/temp\\n    return wav_max\\n\\nwien4000 = wien(4000.)*1e9\\nwien5000 = wien(5000.)*1e9\\nwien6000 = wien(6000.)*1e9\\nwien7000 = wien(7000.)*1e9\\n\\nplt.axvline(x = wien4000, color = \\'r\\')\\nplt.axvline(x = wien5000, color = \\'g\\')\\nplt.axvline(x = wien6000, color = \\'b\\')\\nplt.axvline(x = wien7000, color = \\'k\\')\\n\\n\\nplt.show()'"
      ]
     },
     "execution_count": 5,
     "metadata": {},
     "output_type": "execute_result"
    }
   ],
   "source": [
    "'''plt.plot(wavelengths*1e9, intensity4000, 'r-')\n",
    "plt.plot(wavelengths*1e9, intensity5000, 'g-')\n",
    "plt.plot(wavelengths*1e9, intensity6000, 'b-')\n",
    "plt.plot(wavelengths*1e9, intensity7000, 'k-')\n",
    "\n",
    "plt.xlabel(\"Wavelength (nm)\")\n",
    "plt.ylabel(\"Intensity (W*m^-2*sr^-1*µm^-1)\")\n",
    "\n",
    "b = 2.898e-3\n",
    "def wien(temp):\n",
    "    wav_max = b/temp\n",
    "    return wav_max\n",
    "\n",
    "wien4000 = wien(4000.)*1e9\n",
    "wien5000 = wien(5000.)*1e9\n",
    "wien6000 = wien(6000.)*1e9\n",
    "wien7000 = wien(7000.)*1e9\n",
    "\n",
    "plt.axvline(x = wien4000, color = 'r')\n",
    "plt.axvline(x = wien5000, color = 'g')\n",
    "plt.axvline(x = wien6000, color = 'b')\n",
    "plt.axvline(x = wien7000, color = 'k')\n",
    "\n",
    "\n",
    "plt.show()'''"
   ]
  },
  {
   "cell_type": "code",
   "execution_count": 6,
   "id": "193ffec5",
   "metadata": {},
   "outputs": [
    {
     "data": {
      "text/plain": [
       "'for temp in range(4000, 7001, 1000):\\n    intensity = blackbody(wavelengths, temp)\\n    plt.plot(wavelengths*1e9, intensity)\\n\\nplt.xlabel(\"Wavelength (nm)\")\\nplt.ylabel(\"Intensity (W*m^-2*sr^-1*µm^-1)\")\\n\\nplt.show()'"
      ]
     },
     "execution_count": 6,
     "metadata": {},
     "output_type": "execute_result"
    }
   ],
   "source": [
    "'''for temp in range(4000, 7001, 1000):\n",
    "    intensity = blackbody(wavelengths, temp)\n",
    "    plt.plot(wavelengths*1e9, intensity)\n",
    "\n",
    "plt.xlabel(\"Wavelength (nm)\")\n",
    "plt.ylabel(\"Intensity (W*m^-2*sr^-1*µm^-1)\")\n",
    "\n",
    "plt.show()'''    \n",
    "    "
   ]
  },
  {
   "cell_type": "code",
   "execution_count": 7,
   "id": "208635c8",
   "metadata": {},
   "outputs": [
    {
     "data": {
      "text/plain": [
       "'b = 2.898e-3\\ndef wien(temp):\\n    wav_max = b/temp\\n    return wav_max\\n\\nwien4000 = wien(4000.)\\nwien5000 = wien(5000.)\\nwien6000 = wien(6000.)\\nwien7000 = wien(7000.)\\n\\ntemps = np.arange(4000, 7001, 1000)\\nmax_wavs = [wien4000, wien5000, wien6000, wien7000]\\n\\nplt.plot(temps,max_wavs)\\n\\nplt.xlabel(\"Temperature (K)\")\\nplt.ylabel(\"Wavelength (nm)\")\\n\\nplt.show()'"
      ]
     },
     "execution_count": 7,
     "metadata": {},
     "output_type": "execute_result"
    }
   ],
   "source": [
    "#make wien law function\n",
    "#make function to find area under curve\n",
    "\n",
    "'''b = 2.898e-3\n",
    "def wien(temp):\n",
    "    wav_max = b/temp\n",
    "    return wav_max\n",
    "\n",
    "wien4000 = wien(4000.)\n",
    "wien5000 = wien(5000.)\n",
    "wien6000 = wien(6000.)\n",
    "wien7000 = wien(7000.)\n",
    "\n",
    "temps = np.arange(4000, 7001, 1000)\n",
    "max_wavs = [wien4000, wien5000, wien6000, wien7000]\n",
    "\n",
    "plt.plot(temps,max_wavs)\n",
    "\n",
    "plt.xlabel(\"Temperature (K)\")\n",
    "plt.ylabel(\"Wavelength (nm)\")\n",
    "\n",
    "plt.show()'''\n"
   ]
  },
  {
   "cell_type": "code",
   "execution_count": 8,
   "id": "e08ba73d",
   "metadata": {},
   "outputs": [
    {
     "data": {
      "text/plain": [
       "\"mean = np.array([.5, 1, 1.5, 2, 2.5])\\nstandev = .1\\nfor l in mean:\\n     s = np.random.normal(mean, standev, 1000)\\n\\ncount, bins, ignored = plt.hist(s, 30, density = True)\\nplt.plot(bins, 1/(standev*np.sqrt(2*np.pi))* np.exp(-(bins- mean)**2/(2*standev**2)), linewidth = 2, color = 'r')\\n\\nplt.show()\""
      ]
     },
     "execution_count": 8,
     "metadata": {},
     "output_type": "execute_result"
    }
   ],
   "source": [
    "'''mean = np.array([.5, 1, 1.5, 2, 2.5])\n",
    "standev = .1\n",
    "for l in mean:\n",
    "     s = np.random.normal(mean, standev, 1000)\n",
    "\n",
    "count, bins, ignored = plt.hist(s, 30, density = True)\n",
    "plt.plot(bins, 1/(standev*np.sqrt(2*np.pi))* np.exp(-(bins- mean)**2/(2*standev**2)), linewidth = 2, color = 'r')\n",
    "\n",
    "plt.show()'''"
   ]
  },
  {
   "cell_type": "code",
   "execution_count": 9,
   "metadata": {},
   "outputs": [
    {
     "data": {
      "text/plain": [
       "'b = 2.898e-3\\ndef wien(temp):\\n    wav_max = b/temp\\n    return wav_max'"
      ]
     },
     "execution_count": 9,
     "metadata": {},
     "output_type": "execute_result"
    }
   ],
   "source": [
    "'''b = 2.898e-3\n",
    "def wien(temp):\n",
    "    wav_max = b/temp\n",
    "    return wav_max'''\n"
   ]
  },
  {
   "cell_type": "code",
   "execution_count": 10,
   "metadata": {},
   "outputs": [],
   "source": [
    "import pandas as pd"
   ]
  },
  {
   "cell_type": "code",
   "execution_count": 11,
   "metadata": {},
   "outputs": [],
   "source": [
    "wavelengths2 = np.arange(5e-7, 2e-5, 1e-9)"
   ]
  },
  {
   "cell_type": "code",
   "execution_count": 13,
   "metadata": {},
   "outputs": [],
   "source": [
    "wave = pd.read_csv('bb_wave.csv', sep= \",\", names = [\"wav\"])"
   ]
  },
  {
   "cell_type": "code",
   "execution_count": 24,
   "metadata": {},
   "outputs": [
    {
     "data": {
      "text/html": [
       "<div>\n",
       "<style scoped>\n",
       "    .dataframe tbody tr th:only-of-type {\n",
       "        vertical-align: middle;\n",
       "    }\n",
       "\n",
       "    .dataframe tbody tr th {\n",
       "        vertical-align: top;\n",
       "    }\n",
       "\n",
       "    .dataframe thead th {\n",
       "        text-align: right;\n",
       "    }\n",
       "</style>\n",
       "<table border=\"1\" class=\"dataframe\">\n",
       "  <thead>\n",
       "    <tr style=\"text-align: right;\">\n",
       "      <th></th>\n",
       "      <th>wav</th>\n",
       "    </tr>\n",
       "  </thead>\n",
       "  <tbody>\n",
       "    <tr>\n",
       "      <th>42028</th>\n",
       "      <td>6.106634e-08</td>\n",
       "    </tr>\n",
       "    <tr>\n",
       "      <th>86807</th>\n",
       "      <td>6.979288e-08</td>\n",
       "    </tr>\n",
       "    <tr>\n",
       "      <th>2232</th>\n",
       "      <td>7.247802e-08</td>\n",
       "    </tr>\n",
       "    <tr>\n",
       "      <th>89048</th>\n",
       "      <td>7.313819e-08</td>\n",
       "    </tr>\n",
       "    <tr>\n",
       "      <th>98801</th>\n",
       "      <td>7.401636e-08</td>\n",
       "    </tr>\n",
       "    <tr>\n",
       "      <th>...</th>\n",
       "      <td>...</td>\n",
       "    </tr>\n",
       "    <tr>\n",
       "      <th>4197</th>\n",
       "      <td>1.295184e-05</td>\n",
       "    </tr>\n",
       "    <tr>\n",
       "      <th>69316</th>\n",
       "      <td>1.630751e-05</td>\n",
       "    </tr>\n",
       "    <tr>\n",
       "      <th>58556</th>\n",
       "      <td>1.817403e-05</td>\n",
       "    </tr>\n",
       "    <tr>\n",
       "      <th>87364</th>\n",
       "      <td>2.420670e-05</td>\n",
       "    </tr>\n",
       "    <tr>\n",
       "      <th>58595</th>\n",
       "      <td>3.076826e-05</td>\n",
       "    </tr>\n",
       "  </tbody>\n",
       "</table>\n",
       "<p>100000 rows × 1 columns</p>\n",
       "</div>"
      ],
      "text/plain": [
       "                wav\n",
       "42028  6.106634e-08\n",
       "86807  6.979288e-08\n",
       "2232   7.247802e-08\n",
       "89048  7.313819e-08\n",
       "98801  7.401636e-08\n",
       "...             ...\n",
       "4197   1.295184e-05\n",
       "69316  1.630751e-05\n",
       "58556  1.817403e-05\n",
       "87364  2.420670e-05\n",
       "58595  3.076826e-05\n",
       "\n",
       "[100000 rows x 1 columns]"
      ]
     },
     "execution_count": 24,
     "metadata": {},
     "output_type": "execute_result"
    }
   ],
   "source": [
    "wave.sort_values(by='wav', ascending=True)"
   ]
  },
  {
   "cell_type": "code",
   "execution_count": 15,
   "metadata": {},
   "outputs": [],
   "source": [
    "wavelength = wave['wav']"
   ]
  },
  {
   "cell_type": "code",
   "execution_count": 16,
   "metadata": {},
   "outputs": [
    {
     "data": {
      "text/plain": [
       "(100000,)"
      ]
     },
     "execution_count": 16,
     "metadata": {},
     "output_type": "execute_result"
    }
   ],
   "source": [
    "wavelength.values.shape"
   ]
  },
  {
   "cell_type": "code",
   "execution_count": 17,
   "id": "73f49215",
   "metadata": {},
   "outputs": [],
   "source": [
    "def blackbody(wav, T):\n",
    "    a = (2*h*c**2)/wav**5\n",
    "    b = (h*c)/(k*wav*T)\n",
    "    intensity = a * (1/(np.exp(b)-1))\n",
    "    return intensity\n",
    "\n"
   ]
  },
  {
   "cell_type": "code",
   "execution_count": 56,
   "metadata": {},
   "outputs": [],
   "source": [
    "def planck(wav, T, r):\n",
    "    a = 8*pi*(r**2)*h*c**3\n",
    "    b = (h*c)/(k*wav*T)\n",
    "    luminosity = (a/wav**5)*(1/(np.exp(b)-1))\n",
    "    return luminosity"
   ]
  },
  {
   "cell_type": "code",
   "execution_count": 54,
   "metadata": {},
   "outputs": [
    {
     "data": {
      "text/plain": [
       "(1950,)"
      ]
     },
     "execution_count": 54,
     "metadata": {},
     "output_type": "execute_result"
    }
   ],
   "source": [
    "intensity_example = blackbody(wavelengths,11048.282 )\n",
    "\n",
    "luminosity_example = planck(wavelengths, 11048.282, 2.195856e13)\n",
    "luminosity_example.shape\n"
   ]
  },
  {
   "cell_type": "code",
   "execution_count": 20,
   "metadata": {},
   "outputs": [
    {
     "data": {
      "text/plain": [
       "float"
      ]
     },
     "execution_count": 20,
     "metadata": {},
     "output_type": "execute_result"
    }
   ],
   "source": [
    "type(wavelength)\n",
    "type(2.195856e13)"
   ]
  },
  {
   "cell_type": "code",
   "execution_count": 21,
   "metadata": {},
   "outputs": [
    {
     "data": {
      "text/plain": [
       "array([1.66349668e-07, 7.47238229e-07, 1.67550985e-06, ...,\n",
       "       2.90193909e-07, 1.56161176e-07, 2.49223069e-06])"
      ]
     },
     "execution_count": 21,
     "metadata": {},
     "output_type": "execute_result"
    }
   ],
   "source": [
    "wavelength.values"
   ]
  },
  {
   "cell_type": "code",
   "execution_count": 22,
   "metadata": {},
   "outputs": [
    {
     "data": {
      "text/plain": [
       "array([6.71964833e+50, 1.96970132e+50, 1.39445803e+49, ...,\n",
       "       1.19217375e+51, 5.52647333e+50, 3.28075316e+48])"
      ]
     },
     "execution_count": 22,
     "metadata": {},
     "output_type": "execute_result"
    }
   ],
   "source": [
    "luminosity_example"
   ]
  },
  {
   "cell_type": "code",
   "execution_count": 30,
   "metadata": {},
   "outputs": [],
   "source": [
    "s_wave = np.loadtxt('wavelength_1.txt')/10"
   ]
  },
  {
   "cell_type": "code",
   "execution_count": 31,
   "metadata": {},
   "outputs": [
    {
     "data": {
      "text/plain": [
       "array([2000.        , 1992.23030182, 1984.52073824, ...,   50.01462928,\n",
       "         50.0097519 ,   50.00487548])"
      ]
     },
     "execution_count": 31,
     "metadata": {},
     "output_type": "execute_result"
    }
   ],
   "source": [
    "s_wave"
   ]
  },
  {
   "cell_type": "code",
   "execution_count": 90,
   "metadata": {},
   "outputs": [],
   "source": [
    "s_lum = np.loadtxt('luminosity_1.txt')*1e3"
   ]
  },
  {
   "cell_type": "code",
   "execution_count": 91,
   "metadata": {},
   "outputs": [
    {
     "data": {
      "image/png": "[encoded data removed]",
      "text/plain": [
       "<Figure size 640x480 with 1 Axes>"
      ]
     },
     "metadata": {},
     "output_type": "display_data"
    }
   ],
   "source": [
    "#plt.plot(wavelengths*1e9, intensity_example)\n",
    "plt.plot(s_wave, s_lum)\n",
    "plt.plot(wavelengths*1e9, luminosity_example, ls=\"--\")\n",
    "#plt.plot(np.loadtxt('wavelength_1.txt'), luminosity_example2)\n",
    "\n",
    "plt.xlabel(\"Wavelength (nm)\")\n",
    "#plt.ylabel(\"Intensity (W*m^-2*sr^-1*µm^-1)\")\n",
    "\n",
    "plt.show()"
   ]
  },
  {
   "cell_type": "code",
   "execution_count": null,
   "metadata": {},
   "outputs": [],
   "source": []
  }
 ],
 "metadata": {
  "kernelspec": {
   "display_name": "tardis",
   "language": "python",
   "name": "python3"
  },
  "language_info": {
   "codemirror_mode": {
    "name": "ipython",
    "version": 3
   },
   "file_extension": ".py",
   "mimetype": "text/x-python",
   "name": "python",
   "nbconvert_exporter": "python",
   "pygments_lexer": "ipython3",
   "version": "3.8.17"
  }
 },
 "nbformat": 4,
 "nbformat_minor": 5
}
