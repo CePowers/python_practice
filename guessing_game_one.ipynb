{
 "cells": [
  {
   "cell_type": "code",
   "execution_count": 32,
   "metadata": {},
   "outputs": [],
   "source": [
    "import random"
   ]
  },
  {
   "cell_type": "code",
   "execution_count": 33,
   "metadata": {},
   "outputs": [],
   "source": [
    "rand_num = random.randint(1,9)"
   ]
  },
  {
   "cell_type": "code",
   "execution_count": 34,
   "metadata": {},
   "outputs": [],
   "source": [
    "num = input(\"I am thinking of a number 1-9. What is your guess?\")\n",
    "num = int(num)"
   ]
  },
  {
   "cell_type": "code",
   "execution_count": 35,
   "metadata": {},
   "outputs": [
    {
     "name": "stdout",
     "output_type": "stream",
     "text": [
      "You guessed correctly!!\n"
     ]
    }
   ],
   "source": [
    "if num == rand_num:\n",
    "    print(\"You guessed correctly!!\")\n",
    "elif num < rand_num and num > 0:\n",
    "    print(\"Your guess is too low. The number was\", rand_num)\n",
    "elif num > rand_num and num < 10:\n",
    "    print(\"Your guess is too high. The number was\", rand_num)\n",
    "else:\n",
    "    print(\"Your guess is not in the correct range.\")"
   ]
  },
  {
   "cell_type": "code",
   "execution_count": null,
   "metadata": {},
   "outputs": [],
   "source": []
  }
 ],
 "metadata": {
  "kernelspec": {
   "display_name": "research2",
   "language": "python",
   "name": "python3"
  },
  "language_info": {
   "codemirror_mode": {
    "name": "ipython",
    "version": 3
   },
   "file_extension": ".py",
   "mimetype": "text/x-python",
   "name": "python",
   "nbconvert_exporter": "python",
   "pygments_lexer": "ipython3",
   "version": "3.9.18"
  }
 },
 "nbformat": 4,
 "nbformat_minor": 2
}
