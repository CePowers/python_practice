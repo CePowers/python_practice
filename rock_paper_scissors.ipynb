{
 "cells": [
  {
   "cell_type": "code",
   "execution_count": 16,
   "metadata": {},
   "outputs": [
    {
     "name": "stdout",
     "output_type": "stream",
     "text": [
      "Player 2 wins!\n"
     ]
    }
   ],
   "source": [
    "playing = 'yes'\n",
    "while playing == 'yes':\n",
    "    move_p1 = input(\"Player one, choose your move: \")\n",
    "    move_p2 = input(\"Player two, choose your move: \")\n",
    "    \n",
    "    if move_p1 == 'scissors':\n",
    "        if move_p2 == 'rock':\n",
    "            print(\"Player 2 wins!\")\n",
    "            playing = input(\"Would you like to play again? (yes/no)\")\n",
    "        elif move_p2 == 'paper':\n",
    "            print(\"Player 1 wins!\")\n",
    "            playing = input(\"Would you like to play again? (yes/no)\")\n",
    "        elif move_p2 == move_p1:\n",
    "            print(\"It's a tie!\")\n",
    "            playing = input(\"Would you like to play again? (yes/no)\")\n",
    "\n",
    "    if move_p1 == 'paper':\n",
    "        if move_p2 == 'rock':\n",
    "            print(\"Player 1 wins!\")\n",
    "            playing = input(\"Would you like to play again? (yes/no)\")\n",
    "        elif move_p2 == 'scissors':\n",
    "            print(\"Player 2 wins!\")\n",
    "            playing = input(\"Would you like to play again? (yes/no)\")\n",
    "        elif move_p2 == move_p1:\n",
    "            print(\"It's a tie!\")\n",
    "            playing = input(\"Would you like to play again? (yes/no)\")\n",
    "\n",
    "    if move_p1 == 'rock':\n",
    "        if move_p2 == 'scissors':\n",
    "            print(\"Player 1 wins!\")\n",
    "            playing = input(\"Would you like to play again? (yes/no)\")\n",
    "        elif move_p2 == 'paper':\n",
    "            print(\"Player 2 wins!\")\n",
    "            playing = input(\"Would you like to play again? (yes/no)\")\n",
    "        elif move_p2 == move_p1:\n",
    "            print(\"It's a tie!\")\n",
    "            playing = input(\"Would you like to play again? (yes/no)\")"
   ]
  },
  {
   "cell_type": "code",
   "execution_count": null,
   "metadata": {},
   "outputs": [],
   "source": []
  }
 ],
 "metadata": {
  "kernelspec": {
   "display_name": "research2",
   "language": "python",
   "name": "python3"
  },
  "language_info": {
   "codemirror_mode": {
    "name": "ipython",
    "version": 3
   },
   "file_extension": ".py",
   "mimetype": "text/x-python",
   "name": "python",
   "nbconvert_exporter": "python",
   "pygments_lexer": "ipython3",
   "version": "3.9.18"
  }
 },
 "nbformat": 4,
 "nbformat_minor": 2
}
